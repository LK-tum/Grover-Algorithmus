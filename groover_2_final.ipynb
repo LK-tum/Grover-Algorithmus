{
 "cells": [
  {
   "cell_type": "markdown",
   "id": "13080a4b",
   "metadata": {},
   "source": [
    "<div class=\"alert alert-block alert-info\">\n",
    "<b>Information zu Notebooks:</b>\n",
    "  In diesem Notebook wird sowohl Text als auch der Python Code dargestellt. Der Python Code mit dem Sympy Tool ist immer in grauen Boxen hinterlegt und wird schrittweise durchgeführt. Die Textpassagen sind weiß hinterlegt. \n",
    "Damit die Darstellung übersichtlich ist, wurde die Ausgabe mit dem Befehl <i>print_latex</i> in Latex gemacht, die aber zur besseren Lesbarkeit wieder auskommentiert worden ist. \n",
    "\n",
    "<b>Hinweis: Qubits mathematisch-physikalischer Darstellung versus IBM Quantum/Qiskit</b>\n",
    "\n",
    "Die mathematisch-physikalische Bra-Ket Darstellungsweise von Qubits, welche auch das Tool Sympy in diesem Notebook verwendet, beginnt mit dem niedrigsten Qubit rechts. Anders ist die Darstellung bei IBM Quantum, das auf dem Programmcode Qiskit basiert. Qiskit fängt links mit dem niedrigsten Qubit an anstelle von rechts. Daher werden die Ergebnisse in Qiskit bei IBM Quantum beispielsweise als $|10\\rangle$ dargestellt. Dies entspräche der mathematisch-physikalische Darstellung $|01\\rangle$. \n",
    "\n",
    "Ausführlich erklärt ist dieser Unterschied in der Dokumentation zu Quiskit unter folgendem Link (abgerufen am 02.11.2023):\n",
    "\n",
    "https://qiskit.org/documentation/tutorials/circuits/1_getting_started_with_qiskit.html\n",
    "       \n",
    "    \n",
    "</div>"
   ]
  },
  {
   "cell_type": "markdown",
   "id": "865b96fe",
   "metadata": {},
   "source": [
    "## Simulation des Grover-Algorithmus mit zwei Qubits\n",
    "\n",
    "Im Folgenden wird der Grover-Algorithmus mit zwei Qubits durchgeführt (Darstellung als Jupyter Notebook, programmmiert mit Python). Sodann wird im Rahmen des Orakels der Status  $ {\\left|01\\right\\rangle } $markiert und im Ergebnis gefunden werden. Der Status  $ {\\left|01\\right\\rangle } $ ist insofern interessant, da hierfür Quantengatter mit komplexen Zahlen verwendet werden. Insofern erfolgt die Rechnung mit Matrizen mit komplexen Zahlen.\n",
    "\n",
    "Zur besseren Veranschaulichung wird jeweils zum einen die mathematische Vorgehensweise kurz beschrieben und zum anderen die  Berechnung in Matrizenschreibweise dargestellt. \n",
    "\n",
    "Für die Berechnung wird das Python Tool Sympy verwendet (grau hinterlegter Bereich), das eine symbolhafte Berechnung von Qubits und deren Matrizen erlaubt. \n",
    "\n",
    "Der Grover-Algorithmus wird nachfolgend in drei Schritten, erstens der Superposition, zweitens dem Orakel und drittens der Inversionsspiegelung, dargestellt. "
   ]
  },
  {
   "cell_type": "code",
   "execution_count": 30,
   "id": "feba43cd",
   "metadata": {},
   "outputs": [],
   "source": [
    "import sympy as sp\n",
    "\n",
    "# für Latex Darstellung\n",
    "from IPython.display import Latex\n",
    "from IPython.display import display, Math\n",
    "#Sympy import\n",
    "from sympy import *\n",
    "from sympy.physics.quantum.qubit import IntQubit\n",
    "from sympy.physics.quantum.qubit import Qubit\n",
    "from sympy.physics.quantum.qubit import qubit_to_matrix\n",
    "from sympy.physics.quantum.qubit import matrix_to_qubit\n",
    "from sympy.physics.quantum.qubit import measure_all\n",
    "from sympy.physics.quantum import TensorProduct"
   ]
  },
  {
   "cell_type": "markdown",
   "id": "9dedff93",
   "metadata": {},
   "source": [
    " ## 1. Schritt:  Superposition\n",
    "### 1.1 Initialisierung von zwei Qubits\n",
    "Als erstes werden zwei Qubits im Zustand $$\\psi\\ = {\\left|00\\right\\rangle } $$ definiert:"
   ]
  },
  {
   "cell_type": "code",
   "execution_count": 14,
   "id": "ae1f8bb2",
   "metadata": {},
   "outputs": [],
   "source": [
    "q1 = IntQubit(Qubit('00'))\n",
    "# print_latex(Qubit(q1))"
   ]
  },
  {
   "cell_type": "markdown",
   "id": "c1a08af0",
   "metadata": {},
   "source": [
    "Alternativ kann man die Qubits wie folgt in Vektorschreibweise darstellen: \n",
    "$$\\psi\\ = \\left[\\begin{matrix}1\\\\0\\\\0\\\\0\\end{matrix}\\right]$$"
   ]
  },
  {
   "cell_type": "code",
   "execution_count": 15,
   "id": "86a1a618",
   "metadata": {},
   "outputs": [],
   "source": [
    "psi=qubit_to_matrix(q1) # damit als Vektor\n",
    "#print_latex(qubit_to_matrix(q1))"
   ]
  },
  {
   "cell_type": "markdown",
   "id": "dd2ca6ef",
   "metadata": {},
   "source": [
    "Dies entspricht folgender Quantenschaltung:\n",
    "\n",
    "<img src=\"image/01_Qubits.png\">\n"
   ]
  },
  {
   "cell_type": "markdown",
   "id": "a04851b1",
   "metadata": {},
   "source": [
    "### 1.2 Durchführung der Superposition\n",
    "Um die zwei Qubits in Superposition zu bringen, benötigen man das Hadamard-Gatter: \n",
    "$$ H = \\left[\\begin{matrix}\\frac{\\sqrt{2}}{2} & \\frac{\\sqrt{2}}{2}\\\\\\frac{\\sqrt{2}}{2} & - \\frac{\\sqrt{2}}{2}\\end{matrix}\\right]$$\n"
   ]
  },
  {
   "cell_type": "code",
   "execution_count": 16,
   "id": "258fe804",
   "metadata": {},
   "outputs": [],
   "source": [
    "H =Matrix([[1/sqrt(2),1/sqrt(2)],[1/sqrt(2),-1/sqrt(2)]])\n",
    "#print_latex(H)"
   ]
  },
  {
   "cell_type": "markdown",
   "id": "7206a39c",
   "metadata": {},
   "source": [
    "Die Superposition erfolgt konkret, indem man mit Hilfe des Tensorproduktes zwei Hadamard-Gatter auf die beiden Qubits anwendet:\n",
    "$$H^{\\otimes 2} = H\\otimes H $$ "
   ]
  },
  {
   "cell_type": "code",
   "execution_count": 17,
   "id": "eb25790c",
   "metadata": {},
   "outputs": [],
   "source": [
    "H2=TensorProduct(H,H)\n",
    "#print_latex(H2)"
   ]
  },
  {
   "cell_type": "markdown",
   "id": "155a6ab8",
   "metadata": {},
   "source": [
    "Das Ergebnis ist eine 4x4 Matrix:\n",
    "\n",
    "$$ H^{\\otimes 2}  = \\left[\\begin{matrix}\\frac{1}{2} & \\frac{1}{2} & \\frac{1}{2} & \\frac{1}{2}\\\\\\frac{1}{2} & - \\frac{1}{2} & \\frac{1}{2} & - \\frac{1}{2}\\\\\\frac{1}{2} & \\frac{1}{2} & - \\frac{1}{2} & - \\frac{1}{2}\\\\\\frac{1}{2} & - \\frac{1}{2} & - \\frac{1}{2} & \\frac{1}{2}\\end{matrix}\\right]$$\n"
   ]
  },
  {
   "cell_type": "markdown",
   "id": "1971f2c7",
   "metadata": {},
   "source": [
    "Diese wird anschließend mit den Qubits multiplizert. Als Ergebnis erhält man alle Qubits, gekennzeichnet durch den Ergebnisvektor \n",
    "$ |s\\rangle $ in der Superposition.  \n",
    " \n",
    "**1. Schritt:**  Zwei Qubits in die Superposition bringen: $$ |s\\rangle= H^{\\otimes 2} |\\psi\\rangle =  $$ \n",
    "\n",
    "$$  \\left[\\begin{matrix}\\frac{1}{2} & \\frac{1}{2} & \\frac{1}{2} & \\frac{1}{2}\\\\\\frac{1}{2} & - \\frac{1}{2} & \\frac{1}{2} & - \\frac{1}{2}\\\\\\frac{1}{2} & \\frac{1}{2} & - \\frac{1}{2} & - \\frac{1}{2}\\\\\\frac{1}{2} & - \\frac{1}{2} & - \\frac{1}{2} & \\frac{1}{2}\\end{matrix}\\right] \\cdot \\left[\\begin{matrix}1\\\\0\\\\0\\\\0\\end{matrix}\\right] = $$\n",
    "\n",
    "$$ |s\\rangle  = \\left[\\begin{matrix}\\frac{1}{2}\\\\\\frac{1}{2}\\\\\\frac{1}{2}\\\\\\frac{1}{2}\\end{matrix}\\right] $$\n"
   ]
  },
  {
   "cell_type": "code",
   "execution_count": 18,
   "id": "37a08daf",
   "metadata": {},
   "outputs": [],
   "source": [
    "superposition=H2*psi\n",
    "#print_latex(superposition)"
   ]
  },
  {
   "cell_type": "markdown",
   "id": "114b87a9",
   "metadata": {},
   "source": [
    "Dies entspricht der folgenden Schaltung: \n",
    "\n",
    "<img src=\"image/02_Superposition.png\">\n"
   ]
  },
  {
   "cell_type": "markdown",
   "id": "23393639",
   "metadata": {},
   "source": [
    "## 2. Schritt: Orakel \n",
    "\n",
    "Als Vorbereitung für die spätere Durchführung des Orakels sind weitere Quantengatter erforderlich. \n",
    "\n",
    "### 2.1 Definition weiterer Gatter\n",
    "Für die Durchführung des Orakels werden drei weitere Gatter bzw. deren Ausprägungen als Matrizen benötigt:  \n",
    "**1. Gatter: Einheitsgatter $I$**: Dieses Gatter hat die folgende Darstellung: $$ I = \\left[\\begin{matrix}1 & 0\\\\0 & 1\\end{matrix}\\right] $$  \n",
    "Es wird in einem Quantenschaltkreis verwendet, wenn auf ein Qubit kein anderes, spezielleres Gatter angewandt wird. \n",
    "\n",
    "**2. Gatter: Das S-Gate**: Dieses Gatter dreht die Phase um π/2 und hat damit einen komplexen Anteil in der mathematischen Ausprägung: $$ S=  \\left[\\begin{matrix}1 & 0\\\\0 & i\\end{matrix}\\right] $$\n",
    "In einem Quantenschaltkreis wird es durch ein S dargestellt und hat folgende Symbolausprägung:\n",
    "\n",
    "<img src=\"image/s-gate.png\">\n",
    " \n",
    "**3. Gatter: CZ-Gatter**: Dieses sogenannte \"Controlled-Z-Gatter\" benötigt man für den Operator $U_w$. Es wirkt als Gatter über zwei Qubits und muss als Matrix eine 4x4 Darstellung haben.\n",
    "\n",
    "$$ CZ =\\left[\\begin{matrix}1 & 0 & 0 & 0\\\\0 & 1 & 0 & 0\\\\0 & 0 & 1 & 0\\\\0 & 0 & 0 & -1\\end{matrix}\\right] $$\n",
    "Es wird im Quantenschaltkreis als Strich mit Verbindungspunkten über zwei Qubits dargestellt.\n",
    "\n",
    "<img src=\"image/cz-gate.png\">\n",
    "\n",
    "**4. Gatter: X-Gatter**: Dies ist das sogenannte \"Pauli-X-Gatter\". \n",
    "$$ \\left[\\begin{matrix}0 & 1\\\\1 & 0\\end{matrix}\\right] $$\n",
    "Es wird durch ein + dargestellt.\n",
    "\n",
    "<img src=\"image/x-gate.png\">\n",
    "\n",
    "**5. Gatter: Z-Gatter**: Schließlich benötigt man noch das sogenannte \"Z-Gatter\". \n",
    "$$ \\left[\\begin{matrix}1 & 0\\\\0 & -1\\end{matrix}\\right] $$\n",
    "Es wird durch ein Z dargestellt. \n",
    "\n",
    "<img src=\"image/z-gate.png\">\n"
   ]
  },
  {
   "cell_type": "code",
   "execution_count": 19,
   "id": "15dd094e",
   "metadata": {},
   "outputs": [],
   "source": [
    "I= Matrix([[1,0],\n",
    "         [0,1,]])\n",
    "#print_latex(I)\n",
    "S=Matrix([[1,0],\n",
    "         [0,sp.I]])\n",
    "#print_latex(S)\n",
    "CZ=Matrix([[1,0,0,0],\n",
    "       [0,1,0,0],\n",
    "       [0,0,1,0],\n",
    "       [0,0,0,-1]])\n",
    "#print_latex(CNOT)\n",
    "X=Matrix([[0,1],\n",
    "          [1,0]])\n",
    "Z=Matrix([[1,0],\n",
    "          [0,-1]])"
   ]
  },
  {
   "cell_type": "markdown",
   "id": "9b4c26d6",
   "metadata": {},
   "source": [
    "\n",
    "### 2.2  Das Orakel\n",
    "\n",
    "Nun wird das Orakel angewendet, um damit die Position  $ {\\left|01\\right\\rangle } $ zu markieren. Die Anwendung des Orakels wird typischerweise durch den Operator $ U_w $ gekennzeichnet. \n",
    "\n",
    "**2. Schritt:**  Anwendung des Orakels $ U_w $ auf $ |s\\rangle  $    $$ U_w |s\\rangle = \\psi_2 $$    \n",
    "\n",
    "Damit  $ {\\left|01\\right\\rangle } $ markiert wird, braucht man eine Matrix, die wie folgt aussieht, damit  $ {\\left|01\\right\\rangle } $ in der Amplitude gespiegelt wird:\n",
    "$$ U_w = \\left[\\begin{matrix}1 & 0 & 0 & 0\\\\0 & -1 & 0 & 0\\\\0 & 0 & 1 & 0\\\\0 & 0 & 0 & 1\\end{matrix}\\right] $$\n"
   ]
  },
  {
   "cell_type": "markdown",
   "id": "cc738a2c",
   "metadata": {},
   "source": [
    "### 2.3 Erzeugen des Orakel Operators $U_w$\n",
    "\n",
    "Um diese Matrize in der Quanteschaltung zu erzeugen, muss mathematisch folgende Operation mit den Gattern durchgeführt werden. \n",
    "$$ U_w = (I \\otimes S)\\cdot(CZ)\\cdot (I \\otimes S) $$\n",
    "\n",
    "Nachvollziehbarer wird es in folgenden Einzelschritten:\n",
    "$$ \n",
    "(I \\otimes S ) =\\left[\\begin{matrix}1 & 0\\\\0 & 1\\end{matrix}\\right] \\otimes \n",
    "\\left[\\begin{matrix}1 & 0\\\\0 & i\\end{matrix}\\right] = \n",
    "\\left[\\begin{matrix}1 & 0 & 0 & 0\\\\0 & i & 0 & 0\\\\0 & 0 & 1 & 0\\\\0 & 0 & 0 & i\\end{matrix}\\right] \n",
    "$$ \n",
    "Dann ergibt sich folgendes:\n",
    "$$ (I \\otimes S )\\cdot (CZ) = \n",
    "\\left[\\begin{matrix}1 & 0 & 0 & 0\\\\0 & i & 0 & 0\\\\0 & 0 & 1 & 0\\\\0 & 0 & 0 & i\\end{matrix}\\right]  \\cdot \n",
    "\\left[\\begin{matrix}1 & 0 & 0 & 0\\\\0 & 1 & 0 & 0\\\\0 & 0 & 1 & 0\\\\0 & 0 & 0 & -1\\end{matrix}\\right] =\n",
    "\\left[\\begin{matrix}1 & 0 & 0 & 0\\\\0 & i & 0 & 0\\\\0 & 0 & 1 & 0\\\\0 & 0 & 0 & - i\\end{matrix}\\right]\n",
    "$$\n",
    "Schließlich erhält man:\n",
    "$$ \n",
    "U_w = (I \\otimes S)\\cdot(CZ)\\cdot(I \\otimes S) = \n",
    "\\left[\\begin{matrix}1 & 0 & 0 & 0\\\\0 & i & 0 & 0\\\\0 & 0 & 1 & 0\\\\0 & 0 & 0 & - i\\end{matrix}\\right] \\cdot\n",
    "\\left[\\begin{matrix}1 & 0 & 0 & 0\\\\0 & i & 0 & 0\\\\0 & 0 & 1 & 0\\\\0 & 0 & 0 & i\\end{matrix}\\right] =\n",
    "\\left[\\begin{matrix}1 & 0 & 0 & 0\\\\0 & -1 & 0 & 0\\\\0 & 0 & 1 & 0\\\\0 & 0 & 0 & 1\\end{matrix}\\right]\n",
    "$$"
   ]
  },
  {
   "cell_type": "markdown",
   "id": "a658d4d0",
   "metadata": {},
   "source": [
    "Das Ergebnis dieser Operation ist die gewünschte Matrix, \n",
    "$$\n",
    "U_w = \\left[\\begin{matrix}1 & 0 & 0 & 0\\\\0 & -1 & 0 & 0\\\\0 & 0 & 1 & 0\\\\0 & 0 & 0 & 1\\end{matrix}\\right]\n",
    "$$ \n",
    "die den Zustand  $ {\\left|01\\right\\rangle }$  markieren wird.\n"
   ]
  },
  {
   "cell_type": "code",
   "execution_count": 29,
   "id": "12e18c76",
   "metadata": {},
   "outputs": [],
   "source": [
    "#print_latex(TensorProduct(I,S))\n",
    "#print_latex(TensorProduct(I,S)*CZ)\n",
    "U_W=TensorProduct(I,S)*CZ*TensorProduct(I,S)\n",
    "#print_latex(U_W)"
   ]
  },
  {
   "cell_type": "markdown",
   "id": "74e56153",
   "metadata": {},
   "source": [
    "Das finale Orakel $U_w$ sieht damit als Quantengatter wie folgt aus:\n",
    "\n",
    "<img src=\"image/03_1_Oracle.png\">\n"
   ]
  },
  {
   "cell_type": "markdown",
   "id": "3efe0984",
   "metadata": {},
   "source": [
    "Jetzt wird $ U_w $ auf den Superpositionszustand $ |s\\rangle $ angewandt. Damit erhält man das Orakel und den markierten Zustand \n",
    "bei $ {\\left|01\\right\\rangle} $. Die gesuchte gespiegelte Amplitude ist nun negativ.\n",
    "$$\n",
    "\\psi_2 = U_w |s\\rangle  =  \n",
    "\\left[\\begin{matrix}1 & 0 & 0 & 0\\\\0 & -1 & 0 & 0\\\\0 & 0 & 1 & 0\\\\0 & 0 & 0 & 1\\end{matrix}\\right] \\cdot\n",
    "\\left[\\begin{matrix}\\frac{1}{2}\\\\\\frac{1}{2}\\\\\\frac{1}{2}\\\\\\frac{1}{2}\\end{matrix}\\right] =\n",
    "\\left[\\begin{matrix}\\frac{1}{2}\\\\-\\frac{1}{2}\\\\ \\frac{1}{2}\\\\\\frac{1}{2}\\end{matrix}\\right]\n",
    "$$ . \n"
   ]
  },
  {
   "cell_type": "code",
   "execution_count": 22,
   "id": "30d558b8",
   "metadata": {},
   "outputs": [],
   "source": [
    "psi_2=U_W*superposition\n",
    "#print_latex(psi_2)"
   ]
  },
  {
   "cell_type": "markdown",
   "id": "43739bfb",
   "metadata": {},
   "source": [
    "In der Entwicklung des Quantengatters ist nun folgender Zustand erreicht:\n",
    "\n",
    "<img src=\"image/03_oracle.png\">\n"
   ]
  },
  {
   "cell_type": "markdown",
   "id": "963611bc",
   "metadata": {},
   "source": [
    "## 3. Schritt: Inversionsspiegelung\n",
    "\n",
    "Mit den beiden Schritten   \n",
    "\n",
    "**1. Schritt:**  Zwei Qubits in Superposition bringen: $$ H_2 |\\psi\\rangle = |s\\rangle  $$\n",
    "**2. Schritt:**  Anwendung des Orakels $ U_w $ auf $ |s\\rangle $    $$ U_w |s\\rangle  = \\psi_2 $$    \n",
    "\n",
    "íst der Vektor markiert und die gesuchte Amplitude gespiegelt. \n",
    "Nun folgt der nächste Schritt, nämlich  die Inversionsspiegelung. Hierbei wird die Amplitude verstärkt durch Spiegelung am Superpositionsvektor $ |s\\rangle$. Da es vorliegend nur zwei Qubits sind, genügt eine Spiegelung, um zum Ergebnis zu kommen. \n",
    "\n",
    "\n",
    "**3. Schritt:**\n",
    "Die Inversionsspiegelung erfolgt, indem $ U_S = 2|s\\rangle  \\langle s| -I $ ausgeführt wird. Da es sich dabei um eine Spiegelung an $|s\\rangle $ handelt, kann man dies auf folgende Weise durchführen.\n",
    "Da $H|s\\rangle  = |0\\rangle  $ ist und sich die Spiegelung durch Negierung der Orthogonalen ergibt, kann man das Hadamard-Gatter anwenden und anschließend die Orthogonalen zu $|0\\rangle$ negieren. Zum Schluss wird wieder $H|s\\rangle $ angewendet, so dass der Vektor $|\\psi_2\\rangle$ an $|s\\rangle $ gespiegelt ist.\n",
    "\n",
    "Der gesamte Operator wäre $$ U_S= H^{\\otimes 2}\\cdot(Z \\otimes Z )\\cdot(CZ) \\cdot H^{\\otimes 2} $$ \n",
    "\n",
    "wobei $ U_{S1}= (Z \\otimes Z )(CZ) $ die Negierung der Orthogonalen zu $|0\\rangle$ darstellt, die nun berechnet wird:\n",
    "$$\n",
    "(Z \\otimes Z )= \n",
    "\\left[\\begin{matrix}1 & 1\\\\0 & -1\\end{matrix}\\right] \\otimes \n",
    "\\left[\\begin{matrix}1 & 1\\\\0 & -1\\end{matrix}\\right] =\n",
    "\\left[\\begin{matrix}1 & 0 & 0 & 0\\\\0 & -1 & 0 & 0\\\\0 & 0 & -1 & 0\\\\0 & 0 & 0 & 1\\end{matrix}\\right]\n",
    "$$\n",
    "\n",
    "$$\n",
    "U_{S1}=(Z \\otimes Z )\\cdot(CZ) =\n",
    "\\left[\\begin{matrix}1 & 0 & 0 & 0\\\\0 & -1 & 0 & 0\\\\0 & 0 & -1 & 0\\\\0 & 0 & 0 & 1\\end{matrix}\\right]\\cdot\n",
    "\\left[\\begin{matrix}1 & 0 & 0 & 0\\\\0 & 1 & 0 & 0\\\\0 & 0 & 1 & 0\\\\0 & 0 & 0 & -1\\end{matrix}\\right] =\n",
    "\\left[\\begin{matrix}1 & 0 & 0 & 0\\\\0 & -1 & 0 & 0\\\\0 & 0 & -1 & 0\\\\0 & 0 & 0 & -1\\end{matrix}\\right]\n",
    "$$\n",
    "\n",
    "Es wird ersichtlich, dass diese Matrix zu einer Negierung aller Zustände außer bei $|0\\rangle$ führt.\n",
    "\n",
    "Nachfolgend wird die Quantenschaltung dargestellt:\n",
    "\n",
    "<img src=\"image/Drehung_Z.png\">\n"
   ]
  },
  {
   "cell_type": "code",
   "execution_count": 24,
   "id": "a21bbfb0",
   "metadata": {},
   "outputs": [],
   "source": [
    "U_s1=TensorProduct(Z,Z)*CZ\n",
    "#print_latex(U_s1)"
   ]
  },
  {
   "cell_type": "markdown",
   "id": "3bc1e925",
   "metadata": {},
   "source": [
    "Damit ergibt sich folgendes: \n",
    "$$U_S=H^{\\otimes 2}\\cdot(Z \\otimes Z )\\cdot(CZ)\\cdot H^{\\otimes 2}=$$\n",
    "\n",
    "$$ H^{\\otimes 2}U_{s1}H^{\\otimes 2} = \n",
    "\\left[\\begin{matrix}\\frac{1}{2} & \\frac{1}{2} & \\frac{1}{2} & \\frac{1}{2}\\\\\n",
    "\\frac{1}{2} & - \\frac{1}{2} & \\frac{1}{2} & - \\frac{1}{2}\\\\\n",
    "\\frac{1}{2} & \\frac{1}{2} & - \\frac{1}{2} & - \\frac{1}{2}\\\\\n",
    "\\frac{1}{2} & - \\frac{1}{2} & - \\frac{1}{2} & \\frac{1}{2}\\end{matrix}\\right] \\cdot \n",
    "\\left[\\begin{matrix}1 & 0 & 0 & 0\\\\0 & -1 & 0 & 0\\\\0 & 0 & -1 & 0\\\\0 & 0 & 0 & -1\\end{matrix}\\right]\\cdot\n",
    "\\left[\\begin{matrix}\\frac{1}{2} & \\frac{1}{2} & \\frac{1}{2} & \\frac{1}{2}\\\\\n",
    "\\frac{1}{2} & - \\frac{1}{2} & \\frac{1}{2} & - \\frac{1}{2}\\\\\n",
    "\\frac{1}{2} & \\frac{1}{2} & - \\frac{1}{2} & - \\frac{1}{2}\\\\\n",
    "\\frac{1}{2} & - \\frac{1}{2} & - \\frac{1}{2} & \\frac{1}{2}\\end{matrix}\\right] =\n",
    "$$\n",
    "\n",
    "$$\n",
    "U_S =\n",
    "\\left[\\begin{matrix}- \\frac{1}{2} & \\frac{1}{2} & \\frac{1}{2} & \\frac{1}{2}\\\\\\frac{1}{2} & - \\frac{1}{2} & \\frac{1}{2} & \\frac{1}{2}\\\\\\frac{1}{2} & \\frac{1}{2} & - \\frac{1}{2} & \\frac{1}{2}\\\\\\frac{1}{2} & \\frac{1}{2} & \\frac{1}{2} & - \\frac{1}{2}\\end{matrix}\\right]\n",
    "$$"
   ]
  },
  {
   "cell_type": "code",
   "execution_count": 26,
   "id": "2ec3d8a1",
   "metadata": {},
   "outputs": [],
   "source": [
    "U_s=H2*TensorProduct(Z,Z)*CZ*H2\n",
    "#print_latex(U_s)"
   ]
  },
  {
   "cell_type": "markdown",
   "id": "140733f8",
   "metadata": {},
   "source": [
    "Um den Grover $G$ Algorithmus abzuschließen, wird $U_s$ auf $\\psi_2$ angewandt:\n",
    "\n",
    "$$ G = U_S U_w |\\psi\\rangle= U_S |\\psi_2\\rangle = |\\psi_{final}\\rangle= \\left[\\begin{matrix}- \\frac{1}{2} & \\frac{1}{2} & \\frac{1}{2} & \\frac{1}{2}\\\\\\frac{1}{2} & - \\frac{1}{2} & \\frac{1}{2} & \\frac{1}{2}\\\\\\frac{1}{2} & \\frac{1}{2} & - \\frac{1}{2} & \\frac{1}{2}\\\\\\frac{1}{2} & \\frac{1}{2} & \\frac{1}{2} & - \\frac{1}{2}\\end{matrix}\\right] \\cdot\n",
    "\\left[\\begin{matrix}\\frac{1}{2}\\\\-\\frac{1}{2}\\\\\\frac{1}{2}\\\\\\frac{1}{2}\\end{matrix}\\right]=\n",
    "\\left[\\begin{matrix}0\\\\1\\\\0\\\\0\\end{matrix}\\right]\n",
    "$$\n"
   ]
  },
  {
   "cell_type": "code",
   "execution_count": 28,
   "id": "ffc9cc27",
   "metadata": {},
   "outputs": [],
   "source": [
    "q_final=U_s*psi_2\n",
    "#print_latex(q_final)"
   ]
  },
  {
   "cell_type": "markdown",
   "id": "892ebb24",
   "metadata": {},
   "source": [
    "Die finale Quantenschaltung sieht folgendermaßen aus:\n",
    "\n",
    "<img src=\"image/groover_2_Z.png\">"
   ]
  },
  {
   "cell_type": "markdown",
   "id": "0efcbacb",
   "metadata": {},
   "source": [
    "Wenn man jetzt das Ergebnis von $\\psi_{final}$ misst, bekommt man zu 100% den gesuchten Ergebnisvektor $|01\\rangle$. Die Messung erfolgt mit der Sympy Funktion *measure_all*, welche den Ergebnisvektor und die Wahrscheinlichkeit darstellt.\n"
   ]
  },
  {
   "cell_type": "code",
   "execution_count": 13,
   "id": "21653118",
   "metadata": {
    "scrolled": true
   },
   "outputs": [
    {
     "data": {
      "text/plain": [
       "[(|01>, 1)]"
      ]
     },
     "execution_count": 13,
     "metadata": {},
     "output_type": "execute_result"
    }
   ],
   "source": [
    "measure_all(q_final)"
   ]
  },
  {
   "cell_type": "markdown",
   "id": "87f81604",
   "metadata": {},
   "source": [
    "Damit ist der Grover-Algorithmus auf zwei Qubits angewandt und im Detail in Matrizenrechnung in allen drei Schritten, also Superposition, Orakel und Inversionsspiegelung, durchgeführt worden.\n"
   ]
  },
  {
   "cell_type": "markdown",
   "id": "113ff81f",
   "metadata": {},
   "source": [
    "#### Bezugnahme auf den Hinweis oben: Qubits mathematisch-physikalischer Darstellung versus IBM Quantum/Qiskit\n",
    "\n",
    "Wie oben beschrieben entspricht das Ergebnis in Sympy nach der mathematisch-physikalischen Darstellung $|01\\rangle$ der IBM Quantum/ Quiskit Darstellung $|10\\rangle$."
   ]
  }
 ],
 "metadata": {
  "kernelspec": {
   "display_name": "Python 3 (ipykernel)",
   "language": "python",
   "name": "python3"
  },
  "language_info": {
   "codemirror_mode": {
    "name": "ipython",
    "version": 3
   },
   "file_extension": ".py",
   "mimetype": "text/x-python",
   "name": "python",
   "nbconvert_exporter": "python",
   "pygments_lexer": "ipython3",
   "version": "3.9.13"
  }
 },
 "nbformat": 4,
 "nbformat_minor": 5
}
