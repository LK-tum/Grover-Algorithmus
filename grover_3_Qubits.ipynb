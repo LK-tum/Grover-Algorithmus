{
 "cells": [
  {
   "cell_type": "markdown",
   "id": "5216a98e",
   "metadata": {},
   "source": [
    "# Simulation des Grover-Algorithmus mit drei Qubits\n",
    "\n",
    "\n",
    "Im Folgenden wird der Grover-Algorithmus mit drei Qubits durchgeführt (Darstellung als Jupyter Notebook, programmmiert mit Python). Einleitend werden die benötigten Quantengatter definiert und in Matrizenschreibweise dargestellt. Sodann wird der Grover Algorithmus in seinen drei Schritten durchgeführt, erstens Superposition, zweitens Orakel und drittens Inversionsspiegelung. "
   ]
  },
  {
   "cell_type": "code",
   "execution_count": 1,
   "id": "fdbd3411",
   "metadata": {},
   "outputs": [],
   "source": [
    "# import sympy as sp\n",
    "\n",
    "# für Latex Darstellung\n",
    "from IPython.display import Latex\n",
    "from IPython.display import display, Math\n",
    "#Sympy import\n",
    "from sympy import *\n",
    "from sympy.physics.quantum.qubit import IntQubit\n",
    "from sympy.physics.quantum.qubit import Qubit\n",
    "from sympy.physics.quantum.qubit import qubit_to_matrix\n",
    "from sympy.physics.quantum.qubit import matrix_to_qubit\n",
    "from sympy.physics.quantum.qubit import measure_all\n",
    "from sympy.physics.quantum import TensorProduct"
   ]
  },
  {
   "cell_type": "markdown",
   "id": "9307714a",
   "metadata": {},
   "source": [
    "## Vorbereitung: Definition benötigter Gatter in Matrizenschreibweise ##\n",
    "Nachfolgend werden die Quantengatter definiert und in Matrizenschreibweise dargestellt. "
   ]
  },
  {
   "cell_type": "code",
   "execution_count": 2,
   "id": "dea4a318",
   "metadata": {},
   "outputs": [
    {
     "data": {
      "text/latex": [
       "$\\displaystyle \\left[\\begin{matrix}1 & 0\\\\0 & 1\\end{matrix}\\right]$"
      ],
      "text/plain": [
       "Matrix([\n",
       "[1, 0],\n",
       "[0, 1]])"
      ]
     },
     "execution_count": 2,
     "metadata": {},
     "output_type": "execute_result"
    }
   ],
   "source": [
    "#Einheitsmatrix\n",
    "I=Matrix([[1,0],\n",
    "          [0,1]])\n",
    "I"
   ]
  },
  {
   "cell_type": "code",
   "execution_count": 3,
   "id": "6b986280",
   "metadata": {},
   "outputs": [
    {
     "data": {
      "text/latex": [
       "$\\displaystyle \\left[\\begin{matrix}\\frac{\\sqrt{2}}{2} & \\frac{\\sqrt{2}}{2}\\\\\\frac{\\sqrt{2}}{2} & - \\frac{\\sqrt{2}}{2}\\end{matrix}\\right]$"
      ],
      "text/plain": [
       "Matrix([\n",
       "[sqrt(2)/2,  sqrt(2)/2],\n",
       "[sqrt(2)/2, -sqrt(2)/2]])"
      ]
     },
     "execution_count": 3,
     "metadata": {},
     "output_type": "execute_result"
    }
   ],
   "source": [
    "# H-Matrix\n",
    "H= Matrix([[1/sqrt(2),1/sqrt(2)],[1/sqrt(2),-1/sqrt(2)]])\n",
    "H"
   ]
  },
  {
   "cell_type": "code",
   "execution_count": 4,
   "id": "dba743bc",
   "metadata": {},
   "outputs": [
    {
     "data": {
      "text/latex": [
       "$\\displaystyle \\left[\\begin{matrix}0 & 1\\\\1 & 0\\end{matrix}\\right]$"
      ],
      "text/plain": [
       "Matrix([\n",
       "[0, 1],\n",
       "[1, 0]])"
      ]
     },
     "execution_count": 4,
     "metadata": {},
     "output_type": "execute_result"
    }
   ],
   "source": [
    "#benötigte Gatter bzw. Matrizen\n",
    "#Pauli_X-Gatter\n",
    "Pauli_X= Matrix([[0,1],[1,0]])\n",
    "Pauli_X"
   ]
  },
  {
   "cell_type": "code",
   "execution_count": 5,
   "id": "0f28aca4",
   "metadata": {},
   "outputs": [
    {
     "data": {
      "text/latex": [
       "$\\displaystyle \\left[\\begin{matrix}1 & 0 & 0 & 0 & 0 & 0 & 0 & 0\\\\0 & 1 & 0 & 0 & 0 & 0 & 0 & 0\\\\0 & 0 & 1 & 0 & 0 & 0 & 0 & 0\\\\0 & 0 & 0 & 1 & 0 & 0 & 0 & 0\\\\0 & 0 & 0 & 0 & 1 & 0 & 0 & 0\\\\0 & 0 & 0 & 0 & 0 & 1 & 0 & 0\\\\0 & 0 & 0 & 0 & 0 & 0 & 0 & 1\\\\0 & 0 & 0 & 0 & 0 & 0 & 1 & 0\\end{matrix}\\right]$"
      ],
      "text/plain": [
       "Matrix([\n",
       "[1, 0, 0, 0, 0, 0, 0, 0],\n",
       "[0, 1, 0, 0, 0, 0, 0, 0],\n",
       "[0, 0, 1, 0, 0, 0, 0, 0],\n",
       "[0, 0, 0, 1, 0, 0, 0, 0],\n",
       "[0, 0, 0, 0, 1, 0, 0, 0],\n",
       "[0, 0, 0, 0, 0, 1, 0, 0],\n",
       "[0, 0, 0, 0, 0, 0, 0, 1],\n",
       "[0, 0, 0, 0, 0, 0, 1, 0]])"
      ]
     },
     "execution_count": 5,
     "metadata": {},
     "output_type": "execute_result"
    }
   ],
   "source": [
    "#Toffoli-Gatter\n",
    "Toffoli=Matrix([[1,0,0,0,0,0,0,0],\n",
    "                [0,1,0,0,0,0,0,0],\n",
    "                [0,0,1,0,0,0,0,0],\n",
    "                [0,0,0,1,0,0,0,0],\n",
    "                [0,0,0,0,1,0,0,0],\n",
    "                [0,0,0,0,0,1,0,0],\n",
    "                [0,0,0,0,0,0,0,1],\n",
    "                [0,0,0,0,0,0,1,0]])\n",
    "Toffoli"
   ]
  },
  {
   "cell_type": "markdown",
   "id": "58e68234",
   "metadata": {},
   "source": [
    "Das Toffoli Gatter wird wie folgt dargestellt:\n",
    "\n",
    "<img src=\"image_3Qubits/Toffoli.JPG\">"
   ]
  },
  {
   "cell_type": "markdown",
   "id": "e424f02b",
   "metadata": {},
   "source": [
    "## 1. Schritt: Superposition ##\n",
    "### 1.1 Initialisierung von drei Qubits\n",
    "Zunächst werden die drei Qubits initialisiert."
   ]
  },
  {
   "cell_type": "code",
   "execution_count": 6,
   "id": "a0350efe",
   "metadata": {},
   "outputs": [
    {
     "data": {
      "text/latex": [
       "$\\displaystyle \\left[\\begin{matrix}1\\\\0\\\\0\\\\0\\\\0\\\\0\\\\0\\\\0\\end{matrix}\\right]$"
      ],
      "text/plain": [
       "Matrix([\n",
       "[1],\n",
       "[0],\n",
       "[0],\n",
       "[0],\n",
       "[0],\n",
       "[0],\n",
       "[0],\n",
       "[0]])"
      ]
     },
     "execution_count": 6,
     "metadata": {},
     "output_type": "execute_result"
    }
   ],
   "source": [
    "# Initialisierung der Qubits \n",
    "q3 = IntQubit(Qubit('000'))\n",
    "#Ausgabe als Vektor\n",
    "psi=qubit_to_matrix(q3) # damit als Vektor\n",
    "#print_latex(qubit_to_matrix(q3))\n",
    "psi"
   ]
  },
  {
   "cell_type": "markdown",
   "id": "a43099ca",
   "metadata": {},
   "source": [
    "### 1.2 Durchführung der Superposition\n",
    "Sodann wird die Superposition mit drei Qubits durchgeführt."
   ]
  },
  {
   "cell_type": "code",
   "execution_count": 7,
   "id": "0e932f51",
   "metadata": {
    "scrolled": true
   },
   "outputs": [
    {
     "data": {
      "text/latex": [
       "$\\displaystyle \\left[\\begin{matrix}\\frac{\\sqrt{2}}{4} & \\frac{\\sqrt{2}}{4} & \\frac{\\sqrt{2}}{4} & \\frac{\\sqrt{2}}{4} & \\frac{\\sqrt{2}}{4} & \\frac{\\sqrt{2}}{4} & \\frac{\\sqrt{2}}{4} & \\frac{\\sqrt{2}}{4}\\\\\\frac{\\sqrt{2}}{4} & - \\frac{\\sqrt{2}}{4} & \\frac{\\sqrt{2}}{4} & - \\frac{\\sqrt{2}}{4} & \\frac{\\sqrt{2}}{4} & - \\frac{\\sqrt{2}}{4} & \\frac{\\sqrt{2}}{4} & - \\frac{\\sqrt{2}}{4}\\\\\\frac{\\sqrt{2}}{4} & \\frac{\\sqrt{2}}{4} & - \\frac{\\sqrt{2}}{4} & - \\frac{\\sqrt{2}}{4} & \\frac{\\sqrt{2}}{4} & \\frac{\\sqrt{2}}{4} & - \\frac{\\sqrt{2}}{4} & - \\frac{\\sqrt{2}}{4}\\\\\\frac{\\sqrt{2}}{4} & - \\frac{\\sqrt{2}}{4} & - \\frac{\\sqrt{2}}{4} & \\frac{\\sqrt{2}}{4} & \\frac{\\sqrt{2}}{4} & - \\frac{\\sqrt{2}}{4} & - \\frac{\\sqrt{2}}{4} & \\frac{\\sqrt{2}}{4}\\\\\\frac{\\sqrt{2}}{4} & \\frac{\\sqrt{2}}{4} & \\frac{\\sqrt{2}}{4} & \\frac{\\sqrt{2}}{4} & - \\frac{\\sqrt{2}}{4} & - \\frac{\\sqrt{2}}{4} & - \\frac{\\sqrt{2}}{4} & - \\frac{\\sqrt{2}}{4}\\\\\\frac{\\sqrt{2}}{4} & - \\frac{\\sqrt{2}}{4} & \\frac{\\sqrt{2}}{4} & - \\frac{\\sqrt{2}}{4} & - \\frac{\\sqrt{2}}{4} & \\frac{\\sqrt{2}}{4} & - \\frac{\\sqrt{2}}{4} & \\frac{\\sqrt{2}}{4}\\\\\\frac{\\sqrt{2}}{4} & \\frac{\\sqrt{2}}{4} & - \\frac{\\sqrt{2}}{4} & - \\frac{\\sqrt{2}}{4} & - \\frac{\\sqrt{2}}{4} & - \\frac{\\sqrt{2}}{4} & \\frac{\\sqrt{2}}{4} & \\frac{\\sqrt{2}}{4}\\\\\\frac{\\sqrt{2}}{4} & - \\frac{\\sqrt{2}}{4} & - \\frac{\\sqrt{2}}{4} & \\frac{\\sqrt{2}}{4} & - \\frac{\\sqrt{2}}{4} & \\frac{\\sqrt{2}}{4} & \\frac{\\sqrt{2}}{4} & - \\frac{\\sqrt{2}}{4}\\end{matrix}\\right]$"
      ],
      "text/plain": [
       "Matrix([\n",
       "[sqrt(2)/4,  sqrt(2)/4,  sqrt(2)/4,  sqrt(2)/4,  sqrt(2)/4,  sqrt(2)/4,  sqrt(2)/4,  sqrt(2)/4],\n",
       "[sqrt(2)/4, -sqrt(2)/4,  sqrt(2)/4, -sqrt(2)/4,  sqrt(2)/4, -sqrt(2)/4,  sqrt(2)/4, -sqrt(2)/4],\n",
       "[sqrt(2)/4,  sqrt(2)/4, -sqrt(2)/4, -sqrt(2)/4,  sqrt(2)/4,  sqrt(2)/4, -sqrt(2)/4, -sqrt(2)/4],\n",
       "[sqrt(2)/4, -sqrt(2)/4, -sqrt(2)/4,  sqrt(2)/4,  sqrt(2)/4, -sqrt(2)/4, -sqrt(2)/4,  sqrt(2)/4],\n",
       "[sqrt(2)/4,  sqrt(2)/4,  sqrt(2)/4,  sqrt(2)/4, -sqrt(2)/4, -sqrt(2)/4, -sqrt(2)/4, -sqrt(2)/4],\n",
       "[sqrt(2)/4, -sqrt(2)/4,  sqrt(2)/4, -sqrt(2)/4, -sqrt(2)/4,  sqrt(2)/4, -sqrt(2)/4,  sqrt(2)/4],\n",
       "[sqrt(2)/4,  sqrt(2)/4, -sqrt(2)/4, -sqrt(2)/4, -sqrt(2)/4, -sqrt(2)/4,  sqrt(2)/4,  sqrt(2)/4],\n",
       "[sqrt(2)/4, -sqrt(2)/4, -sqrt(2)/4,  sqrt(2)/4, -sqrt(2)/4,  sqrt(2)/4,  sqrt(2)/4, -sqrt(2)/4]])"
      ]
     },
     "execution_count": 7,
     "metadata": {},
     "output_type": "execute_result"
    }
   ],
   "source": [
    "#Superpositionsmatrix für 3 Qubits\n",
    "H3=TensorProduct(H, H, H)\n",
    "H3"
   ]
  },
  {
   "cell_type": "code",
   "execution_count": 8,
   "id": "a6e70ffa",
   "metadata": {},
   "outputs": [
    {
     "data": {
      "text/latex": [
       "$\\displaystyle \\left[\\begin{matrix}\\frac{\\sqrt{2}}{4}\\\\\\frac{\\sqrt{2}}{4}\\\\\\frac{\\sqrt{2}}{4}\\\\\\frac{\\sqrt{2}}{4}\\\\\\frac{\\sqrt{2}}{4}\\\\\\frac{\\sqrt{2}}{4}\\\\\\frac{\\sqrt{2}}{4}\\\\\\frac{\\sqrt{2}}{4}\\end{matrix}\\right]$"
      ],
      "text/plain": [
       "Matrix([\n",
       "[sqrt(2)/4],\n",
       "[sqrt(2)/4],\n",
       "[sqrt(2)/4],\n",
       "[sqrt(2)/4],\n",
       "[sqrt(2)/4],\n",
       "[sqrt(2)/4],\n",
       "[sqrt(2)/4],\n",
       "[sqrt(2)/4]])"
      ]
     },
     "execution_count": 8,
     "metadata": {},
     "output_type": "execute_result"
    }
   ],
   "source": [
    "#Superpositionsvektor\n",
    "psi_1=H3*psi\n",
    "psi_1"
   ]
  },
  {
   "cell_type": "markdown",
   "id": "28682433",
   "metadata": {},
   "source": [
    "## 2. Schritt: Orakel\n",
    "Als nächstes definiert man das Orakel. In dem Beispiel makiert man  $ |010\\rangle $,  also die dritte Zeile in der Orakel Matrix."
   ]
  },
  {
   "cell_type": "code",
   "execution_count": 9,
   "id": "7e69eab4",
   "metadata": {
    "scrolled": true
   },
   "outputs": [
    {
     "data": {
      "text/latex": [
       "$\\displaystyle \\left[\\begin{matrix}1 & 0 & 0 & 0 & 0 & 0 & 0 & 0\\\\0 & 1 & 0 & 0 & 0 & 0 & 0 & 0\\\\0 & 0 & -1 & 0 & 0 & 0 & 0 & 0\\\\0 & 0 & 0 & 1 & 0 & 0 & 0 & 0\\\\0 & 0 & 0 & 0 & 1 & 0 & 0 & 0\\\\0 & 0 & 0 & 0 & 0 & 1 & 0 & 0\\\\0 & 0 & 0 & 0 & 0 & 0 & 1 & 0\\\\0 & 0 & 0 & 0 & 0 & 0 & 0 & 1\\end{matrix}\\right]$"
      ],
      "text/plain": [
       "Matrix([\n",
       "[1, 0,  0, 0, 0, 0, 0, 0],\n",
       "[0, 1,  0, 0, 0, 0, 0, 0],\n",
       "[0, 0, -1, 0, 0, 0, 0, 0],\n",
       "[0, 0,  0, 1, 0, 0, 0, 0],\n",
       "[0, 0,  0, 0, 1, 0, 0, 0],\n",
       "[0, 0,  0, 0, 0, 1, 0, 0],\n",
       "[0, 0,  0, 0, 0, 0, 1, 0],\n",
       "[0, 0,  0, 0, 0, 0, 0, 1]])"
      ]
     },
     "execution_count": 9,
     "metadata": {},
     "output_type": "execute_result"
    }
   ],
   "source": [
    "#Oracle\n",
    "oracle= (TensorProduct(Pauli_X,I,Pauli_X)*\n",
    "           (TensorProduct(I,I,H))*\n",
    "           Toffoli*\n",
    "           TensorProduct(I,I,H)*\n",
    "           TensorProduct(Pauli_X,I,Pauli_X))\n",
    "oracle"
   ]
  },
  {
   "cell_type": "markdown",
   "id": "f4a0d2ba",
   "metadata": {},
   "source": [
    "Als Quantenschaltung sieht es folgendermaßen aus: \n",
    "\n",
    "<img src=\"image_3Qubits/Orakel.JPG\">"
   ]
  },
  {
   "cell_type": "markdown",
   "id": "3bd0aa15",
   "metadata": {},
   "source": [
    "## 3. Schritt: Inversionspiegelung ##\n",
    "\n",
    "Nun wird die Inversionsspiegelung durchgeführt, welche bei drei Qubits im Gegensatz zu zwei Qubits etwas komplexer ist, wie nachfolgend zu erkennen ist."
   ]
  },
  {
   "cell_type": "code",
   "execution_count": 10,
   "id": "3fd1f84b",
   "metadata": {},
   "outputs": [
    {
     "data": {
      "text/latex": [
       "$\\displaystyle \\left[\\begin{matrix}\\frac{3}{4} & - \\frac{1}{4} & - \\frac{1}{4} & - \\frac{1}{4} & - \\frac{1}{4} & - \\frac{1}{4} & - \\frac{1}{4} & - \\frac{1}{4}\\\\- \\frac{1}{4} & \\frac{3}{4} & - \\frac{1}{4} & - \\frac{1}{4} & - \\frac{1}{4} & - \\frac{1}{4} & - \\frac{1}{4} & - \\frac{1}{4}\\\\- \\frac{1}{4} & - \\frac{1}{4} & \\frac{3}{4} & - \\frac{1}{4} & - \\frac{1}{4} & - \\frac{1}{4} & - \\frac{1}{4} & - \\frac{1}{4}\\\\- \\frac{1}{4} & - \\frac{1}{4} & - \\frac{1}{4} & \\frac{3}{4} & - \\frac{1}{4} & - \\frac{1}{4} & - \\frac{1}{4} & - \\frac{1}{4}\\\\- \\frac{1}{4} & - \\frac{1}{4} & - \\frac{1}{4} & - \\frac{1}{4} & \\frac{3}{4} & - \\frac{1}{4} & - \\frac{1}{4} & - \\frac{1}{4}\\\\- \\frac{1}{4} & - \\frac{1}{4} & - \\frac{1}{4} & - \\frac{1}{4} & - \\frac{1}{4} & \\frac{3}{4} & - \\frac{1}{4} & - \\frac{1}{4}\\\\- \\frac{1}{4} & - \\frac{1}{4} & - \\frac{1}{4} & - \\frac{1}{4} & - \\frac{1}{4} & - \\frac{1}{4} & \\frac{3}{4} & - \\frac{1}{4}\\\\- \\frac{1}{4} & - \\frac{1}{4} & - \\frac{1}{4} & - \\frac{1}{4} & - \\frac{1}{4} & - \\frac{1}{4} & - \\frac{1}{4} & \\frac{3}{4}\\end{matrix}\\right]$"
      ],
      "text/plain": [
       "Matrix([\n",
       "[ 3/4, -1/4, -1/4, -1/4, -1/4, -1/4, -1/4, -1/4],\n",
       "[-1/4,  3/4, -1/4, -1/4, -1/4, -1/4, -1/4, -1/4],\n",
       "[-1/4, -1/4,  3/4, -1/4, -1/4, -1/4, -1/4, -1/4],\n",
       "[-1/4, -1/4, -1/4,  3/4, -1/4, -1/4, -1/4, -1/4],\n",
       "[-1/4, -1/4, -1/4, -1/4,  3/4, -1/4, -1/4, -1/4],\n",
       "[-1/4, -1/4, -1/4, -1/4, -1/4,  3/4, -1/4, -1/4],\n",
       "[-1/4, -1/4, -1/4, -1/4, -1/4, -1/4,  3/4, -1/4],\n",
       "[-1/4, -1/4, -1/4, -1/4, -1/4, -1/4, -1/4,  3/4]])"
      ]
     },
     "execution_count": 10,
     "metadata": {},
     "output_type": "execute_result"
    }
   ],
   "source": [
    "#Inversionsspiegelung\n",
    "inversion=(TensorProduct(H,H,H)*\n",
    "(TensorProduct(Pauli_X,Pauli_X,Pauli_X))*\n",
    "(TensorProduct(I,I,H))*\n",
    "Toffoli*\n",
    "(TensorProduct(I,I,H))*\n",
    "(TensorProduct(Pauli_X,Pauli_X,Pauli_X))*\n",
    "(TensorProduct(H,H,H)))\n",
    "inversion"
   ]
  },
  {
   "cell_type": "markdown",
   "id": "b2319687",
   "metadata": {},
   "source": [
    "Die Inversion kann man auch in der Gatterschreibweise darstellen:\n",
    "<img src=\"image_3Qubits/Inversion.JPG\">"
   ]
  },
  {
   "cell_type": "markdown",
   "id": "60a98409",
   "metadata": {},
   "source": [
    "## 3.1 Erste Iteration ##\n",
    "Bei der Durchführung der ersten Iteration ist feststellbar, dass sich der Vektor psi_2 dem gesuchten Wert schon annnähert, jedoch nur mit einer Wahrscheinlichkeit von rund 78% (25/32). "
   ]
  },
  {
   "cell_type": "code",
   "execution_count": 11,
   "id": "27f8ecf2",
   "metadata": {},
   "outputs": [
    {
     "data": {
      "text/latex": [
       "$\\displaystyle \\left[\\begin{matrix}- \\frac{\\sqrt{2}}{8}\\\\- \\frac{\\sqrt{2}}{8}\\\\- \\frac{5 \\sqrt{2}}{8}\\\\- \\frac{\\sqrt{2}}{8}\\\\- \\frac{\\sqrt{2}}{8}\\\\- \\frac{\\sqrt{2}}{8}\\\\- \\frac{\\sqrt{2}}{8}\\\\- \\frac{\\sqrt{2}}{8}\\end{matrix}\\right]$"
      ],
      "text/plain": [
       "Matrix([\n",
       "[  -sqrt(2)/8],\n",
       "[  -sqrt(2)/8],\n",
       "[-5*sqrt(2)/8],\n",
       "[  -sqrt(2)/8],\n",
       "[  -sqrt(2)/8],\n",
       "[  -sqrt(2)/8],\n",
       "[  -sqrt(2)/8],\n",
       "[  -sqrt(2)/8]])"
      ]
     },
     "execution_count": 11,
     "metadata": {},
     "output_type": "execute_result"
    }
   ],
   "source": [
    "#erste Iteration\n",
    "psi_2=inversion*oracle*psi_1\n",
    "psi_2\n"
   ]
  },
  {
   "cell_type": "code",
   "execution_count": 12,
   "id": "6f194964",
   "metadata": {},
   "outputs": [
    {
     "data": {
      "text/plain": [
       "[(|000>, 1/32),\n",
       " (|001>, 1/32),\n",
       " (|010>, 25/32),\n",
       " (|011>, 1/32),\n",
       " (|100>, 1/32),\n",
       " (|101>, 1/32),\n",
       " (|110>, 1/32),\n",
       " (|111>, 1/32)]"
      ]
     },
     "execution_count": 12,
     "metadata": {},
     "output_type": "execute_result"
    }
   ],
   "source": [
    " measure_all(psi_2)"
   ]
  },
  {
   "cell_type": "markdown",
   "id": "b26c2da2",
   "metadata": {},
   "source": [
    "Die Funktion *measure_all* gibt die \"Messergebnisse\" für die Qubits wieder. Die Erfolgswahrscheinlichkeit für das richtige Ergebnis $ |010\\rangle $ beträgt nach einer Iteration 25/32, also rund 78 %. "
   ]
  },
  {
   "cell_type": "markdown",
   "id": "2bc36016",
   "metadata": {},
   "source": [
    "## 3.2 Zweite Iteration ##\n",
    "Nach der zweiten Iteration erhält man mit einer sehr hohen Wahrscheinlichkeit, nämlich rund 94,5 %  (121/128 entspricht ca. 94,5%), das gesuchte Ergebnis. Damit ist das Optimum für die höchstmögliche Erfolgswahrscheinlichkeit für das richtige Ergebnis bei der Durchführung des Grover-Algorithmus mit drei Qubits erreicht."
   ]
  },
  {
   "cell_type": "code",
   "execution_count": 13,
   "id": "3fbe4b59",
   "metadata": {},
   "outputs": [
    {
     "data": {
      "text/latex": [
       "$\\displaystyle \\left[\\begin{matrix}- \\frac{\\sqrt{2}}{16}\\\\- \\frac{\\sqrt{2}}{16}\\\\\\frac{11 \\sqrt{2}}{16}\\\\- \\frac{\\sqrt{2}}{16}\\\\- \\frac{\\sqrt{2}}{16}\\\\- \\frac{\\sqrt{2}}{16}\\\\- \\frac{\\sqrt{2}}{16}\\\\- \\frac{\\sqrt{2}}{16}\\end{matrix}\\right]$"
      ],
      "text/plain": [
       "Matrix([\n",
       "[  -sqrt(2)/16],\n",
       "[  -sqrt(2)/16],\n",
       "[11*sqrt(2)/16],\n",
       "[  -sqrt(2)/16],\n",
       "[  -sqrt(2)/16],\n",
       "[  -sqrt(2)/16],\n",
       "[  -sqrt(2)/16],\n",
       "[  -sqrt(2)/16]])"
      ]
     },
     "execution_count": 13,
     "metadata": {},
     "output_type": "execute_result"
    }
   ],
   "source": [
    "#zweite Iteration\n",
    "psi_3=inversion*oracle*psi_2\n",
    "psi_3"
   ]
  },
  {
   "cell_type": "code",
   "execution_count": 14,
   "id": "49cde582",
   "metadata": {
    "scrolled": true
   },
   "outputs": [
    {
     "data": {
      "text/plain": [
       "[(|000>, 1/128),\n",
       " (|001>, 1/128),\n",
       " (|010>, 121/128),\n",
       " (|011>, 1/128),\n",
       " (|100>, 1/128),\n",
       " (|101>, 1/128),\n",
       " (|110>, 1/128),\n",
       " (|111>, 1/128)]"
      ]
     },
     "execution_count": 14,
     "metadata": {},
     "output_type": "execute_result"
    }
   ],
   "source": [
    " measure_all(psi_3)"
   ]
  },
  {
   "cell_type": "markdown",
   "id": "567e6cb4",
   "metadata": {},
   "source": [
    "Die gesamte Schaltung sieht folgendermaßen aus: \n",
    "<img src=\"image_3Qubits/Gesamtschaltung 3 Qubits.JPG\">"
   ]
  },
  {
   "cell_type": "markdown",
   "id": "da553aa5",
   "metadata": {},
   "source": [
    "## 3.3 Dritte und vierte Iteration ##\n",
    "Wenn man die Iteration testweise ein bzw. zwei zusätzliche Male durchführt, so verschlechtert sich die Erfolgswahrscheinlichkeit wieder. Diese beträgt bei der dritten Iteration 33% (169/512) und bei der vierten nur noch  ca.1,2 % (25/2048). Es ist erkennbar, dass nach zwei Iterationen das Optimum erreicht ist. \n"
   ]
  },
  {
   "cell_type": "code",
   "execution_count": 15,
   "id": "1c064668",
   "metadata": {
    "scrolled": true
   },
   "outputs": [
    {
     "data": {
      "text/plain": [
       "[(|000>, 49/512),\n",
       " (|001>, 49/512),\n",
       " (|010>, 169/512),\n",
       " (|011>, 49/512),\n",
       " (|100>, 49/512),\n",
       " (|101>, 49/512),\n",
       " (|110>, 49/512),\n",
       " (|111>, 49/512)]"
      ]
     },
     "execution_count": 15,
     "metadata": {},
     "output_type": "execute_result"
    }
   ],
   "source": [
    "#dritte Iteration\n",
    "psi_4=inversion*oracle*psi_3\n",
    "measure_all(psi_4)"
   ]
  },
  {
   "cell_type": "code",
   "execution_count": 16,
   "id": "cbd45d4a",
   "metadata": {},
   "outputs": [
    {
     "data": {
      "text/plain": [
       "[(|000>, 289/2048),\n",
       " (|001>, 289/2048),\n",
       " (|010>, 25/2048),\n",
       " (|011>, 289/2048),\n",
       " (|100>, 289/2048),\n",
       " (|101>, 289/2048),\n",
       " (|110>, 289/2048),\n",
       " (|111>, 289/2048)]"
      ]
     },
     "execution_count": 16,
     "metadata": {},
     "output_type": "execute_result"
    }
   ],
   "source": [
    "#vierte Iteration\n",
    "psi_5=inversion*oracle*psi_4\n",
    "measure_all(psi_5)"
   ]
  },
  {
   "cell_type": "markdown",
   "id": "d9381e24",
   "metadata": {},
   "source": [
    "## Fazit\n",
    "Der Grover-Algorithmus wurde auf drei Qubits angewandt und in Matrizenrechnung in allen Schritten, also Superposition, Orakel und Inversionsspiegelung, dargestellt. Wie man bei der hiesigen Simulation mit drei Qubits gut erkennt, ist der Grover ein probabilistischer Algorithmus, der in diesem Fall nach zwei Iterationen sein bestes Ergebnis mit der höchstmöglichen Erfolgswahrscheinlichkeit erzielt. "
   ]
  },
  {
   "cell_type": "code",
   "execution_count": null,
   "id": "db3c6b4e",
   "metadata": {},
   "outputs": [],
   "source": []
  }
 ],
 "metadata": {
  "kernelspec": {
   "display_name": "Python 3 (ipykernel)",
   "language": "python",
   "name": "python3"
  },
  "language_info": {
   "codemirror_mode": {
    "name": "ipython",
    "version": 3
   },
   "file_extension": ".py",
   "mimetype": "text/x-python",
   "name": "python",
   "nbconvert_exporter": "python",
   "pygments_lexer": "ipython3",
   "version": "3.9.13"
  }
 },
 "nbformat": 4,
 "nbformat_minor": 5
}
